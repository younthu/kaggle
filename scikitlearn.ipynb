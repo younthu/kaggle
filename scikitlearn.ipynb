{
 "cells": [
  {
   "cell_type": "code",
   "execution_count": 1,
   "metadata": {
    "collapsed": true
   },
   "outputs": [],
   "source": [
    "# http://blog.csdn.net/Dream_angel_Z/article/details/46972669\n",
    "from sklearn import datasets\n",
    "iris = datasets.load_iris()\n",
    "digits = datasets.load_digits()"
   ]
  },
  {
   "cell_type": "code",
   "execution_count": 3,
   "metadata": {},
   "outputs": [
    {
     "name": "stdout",
     "output_type": "stream",
     "text": [
      "[[  0.   0.   5. ...,   0.   0.   0.]\n",
      " [  0.   0.   0. ...,  10.   0.   0.]\n",
      " [  0.   0.   0. ...,  16.   9.   0.]\n",
      " ..., \n",
      " [  0.   0.   1. ...,   6.   0.   0.]\n",
      " [  0.   0.   2. ...,  12.   0.   0.]\n",
      " [  0.   0.  10. ...,  12.   1.   0.]]\n"
     ]
    }
   ],
   "source": [
    "print(digits.data)"
   ]
  },
  {
   "cell_type": "code",
   "execution_count": 7,
   "metadata": {},
   "outputs": [
    {
     "data": {
      "text/plain": [
       "array([0, 1, 2, ..., 8, 9, 8])"
      ]
     },
     "execution_count": 7,
     "metadata": {},
     "output_type": "execute_result"
    }
   ],
   "source": [
    "digits.target"
   ]
  },
  {
   "cell_type": "code",
   "execution_count": 8,
   "metadata": {},
   "outputs": [
    {
     "data": {
      "text/plain": [
       "array([[[  0.,   0.,   5., ...,   1.,   0.,   0.],\n",
       "        [  0.,   0.,  13., ...,  15.,   5.,   0.],\n",
       "        [  0.,   3.,  15., ...,  11.,   8.,   0.],\n",
       "        ..., \n",
       "        [  0.,   4.,  11., ...,  12.,   7.,   0.],\n",
       "        [  0.,   2.,  14., ...,  12.,   0.,   0.],\n",
       "        [  0.,   0.,   6., ...,   0.,   0.,   0.]],\n",
       "\n",
       "       [[  0.,   0.,   0., ...,   5.,   0.,   0.],\n",
       "        [  0.,   0.,   0., ...,   9.,   0.,   0.],\n",
       "        [  0.,   0.,   3., ...,   6.,   0.,   0.],\n",
       "        ..., \n",
       "        [  0.,   0.,   1., ...,   6.,   0.,   0.],\n",
       "        [  0.,   0.,   1., ...,   6.,   0.,   0.],\n",
       "        [  0.,   0.,   0., ...,  10.,   0.,   0.]],\n",
       "\n",
       "       [[  0.,   0.,   0., ...,  12.,   0.,   0.],\n",
       "        [  0.,   0.,   3., ...,  14.,   0.,   0.],\n",
       "        [  0.,   0.,   8., ...,  16.,   0.,   0.],\n",
       "        ..., \n",
       "        [  0.,   9.,  16., ...,   0.,   0.,   0.],\n",
       "        [  0.,   3.,  13., ...,  11.,   5.,   0.],\n",
       "        [  0.,   0.,   0., ...,  16.,   9.,   0.]],\n",
       "\n",
       "       ..., \n",
       "       [[  0.,   0.,   1., ...,   1.,   0.,   0.],\n",
       "        [  0.,   0.,  13., ...,   2.,   1.,   0.],\n",
       "        [  0.,   0.,  16., ...,  16.,   5.,   0.],\n",
       "        ..., \n",
       "        [  0.,   0.,  16., ...,  15.,   0.,   0.],\n",
       "        [  0.,   0.,  15., ...,  16.,   0.,   0.],\n",
       "        [  0.,   0.,   2., ...,   6.,   0.,   0.]],\n",
       "\n",
       "       [[  0.,   0.,   2., ...,   0.,   0.,   0.],\n",
       "        [  0.,   0.,  14., ...,  15.,   1.,   0.],\n",
       "        [  0.,   4.,  16., ...,  16.,   7.,   0.],\n",
       "        ..., \n",
       "        [  0.,   0.,   0., ...,  16.,   2.,   0.],\n",
       "        [  0.,   0.,   4., ...,  16.,   2.,   0.],\n",
       "        [  0.,   0.,   5., ...,  12.,   0.,   0.]],\n",
       "\n",
       "       [[  0.,   0.,  10., ...,   1.,   0.,   0.],\n",
       "        [  0.,   2.,  16., ...,   1.,   0.,   0.],\n",
       "        [  0.,   0.,  15., ...,  15.,   0.,   0.],\n",
       "        ..., \n",
       "        [  0.,   4.,  16., ...,  16.,   6.,   0.],\n",
       "        [  0.,   8.,  16., ...,  16.,   8.,   0.],\n",
       "        [  0.,   1.,   8., ...,  12.,   1.,   0.]]])"
      ]
     },
     "execution_count": 8,
     "metadata": {},
     "output_type": "execute_result"
    }
   ],
   "source": [
    "digits.images"
   ]
  },
  {
   "cell_type": "code",
   "execution_count": 9,
   "metadata": {
    "collapsed": true
   },
   "outputs": [],
   "source": [
    "from sklearn import svm"
   ]
  },
  {
   "cell_type": "code",
   "execution_count": 10,
   "metadata": {
    "collapsed": true
   },
   "outputs": [],
   "source": [
    "clf = svm.SVC(gamma=0.001, C=100.)"
   ]
  },
  {
   "cell_type": "code",
   "execution_count": 11,
   "metadata": {},
   "outputs": [
    {
     "data": {
      "text/plain": [
       "SVC(C=100.0, cache_size=200, class_weight=None, coef0=0.0,\n",
       "  decision_function_shape=None, degree=3, gamma=0.001, kernel='rbf',\n",
       "  max_iter=-1, probability=False, random_state=None, shrinking=True,\n",
       "  tol=0.001, verbose=False)"
      ]
     },
     "execution_count": 11,
     "metadata": {},
     "output_type": "execute_result"
    }
   ],
   "source": [
    "clf.fit(digits.data[:-1], digits.target[:-1]) "
   ]
  },
  {
   "cell_type": "code",
   "execution_count": null,
   "metadata": {
    "collapsed": true
   },
   "outputs": [],
   "source": []
  }
 ],
 "metadata": {
  "kernelspec": {
   "display_name": "Python 3",
   "language": "python",
   "name": "python3"
  },
  "language_info": {
   "codemirror_mode": {
    "name": "ipython",
    "version": 3
   },
   "file_extension": ".py",
   "mimetype": "text/x-python",
   "name": "python",
   "nbconvert_exporter": "python",
   "pygments_lexer": "ipython3",
   "version": "3.6.1"
  }
 },
 "nbformat": 4,
 "nbformat_minor": 2
}
