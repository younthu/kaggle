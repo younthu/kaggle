{
 "cells": [
  {
   "cell_type": "code",
   "execution_count": null,
   "metadata": {},
   "outputs": [
    {
     "name": "stderr",
     "output_type": "stream",
     "text": [
      "Getting uuid of QR code.\n",
      "Downloading QR code.\n",
      "Please scan the QR code to log in.\n",
      "Please press confirm on your phone.\n",
      "Loading the contact, this may take a little while.\n",
      "Login successfully as 数学小王子\n",
      "Start auto replying.\n"
     ]
    },
    {
     "name": "stdout",
     "output_type": "stream",
     "text": [
      "{'MsgId': '4360926900880666960', 'FromUserName': '@66e2732edd307e9a36975d76b6bc93e7', 'ToUserName': '@efd3f2fa87987d3786857d8d14130363644e8909c70e1426150e3ebe5291dcf1', 'MsgType': 1, 'Content': '你好', 'Status': 3, 'ImgStatus': 1, 'CreateTime': 1524634172, 'VoiceLength': 0, 'PlayLength': 0, 'FileName': '', 'FileSize': '', 'MediaId': '', 'Url': '', 'AppMsgType': 0, 'StatusNotifyCode': 0, 'StatusNotifyUserName': '', 'RecommendInfo': {'UserName': '', 'NickName': '', 'QQNum': 0, 'Province': '', 'City': '', 'Content': '', 'Signature': '', 'Alias': '', 'Scene': 0, 'VerifyFlag': 0, 'AttrStatus': 0, 'Sex': 0, 'Ticket': '', 'OpCode': 0}, 'ForwardFlag': 0, 'AppInfo': {'AppID': '', 'Type': 0}, 'HasProductId': 0, 'Ticket': '', 'ImgHeight': 0, 'ImgWidth': 0, 'SubMsgType': 0, 'NewMsgId': 4360926900880666960, 'OriContent': '', 'EncryFileName': '', 'Type': 'Text', 'Text': '你好'}\n",
      "{'MsgId': '9160894961949479121', 'FromUserName': '@66e2732edd307e9a36975d76b6bc93e7', 'ToUserName': '@efd3f2fa87987d3786857d8d14130363644e8909c70e1426150e3ebe5291dcf1', 'MsgType': 1, 'Content': '记录', 'Status': 3, 'ImgStatus': 1, 'CreateTime': 1524634193, 'VoiceLength': 0, 'PlayLength': 0, 'FileName': '', 'FileSize': '', 'MediaId': '', 'Url': '', 'AppMsgType': 0, 'StatusNotifyCode': 0, 'StatusNotifyUserName': '', 'RecommendInfo': {'UserName': '', 'NickName': '', 'QQNum': 0, 'Province': '', 'City': '', 'Content': '', 'Signature': '', 'Alias': '', 'Scene': 0, 'VerifyFlag': 0, 'AttrStatus': 0, 'Sex': 0, 'Ticket': '', 'OpCode': 0}, 'ForwardFlag': 0, 'AppInfo': {'AppID': '', 'Type': 0}, 'HasProductId': 0, 'Ticket': '', 'ImgHeight': 0, 'ImgWidth': 0, 'SubMsgType': 0, 'NewMsgId': 9160894961949479121, 'OriContent': '', 'EncryFileName': '', 'Type': 'Text', 'Text': '记录'}\n",
      "{'MsgId': '8682242436998289206', 'FromUserName': '@66e2732edd307e9a36975d76b6bc93e7', 'ToUserName': '@efd3f2fa87987d3786857d8d14130363644e8909c70e1426150e3ebe5291dcf1', 'MsgType': 1, 'Content': '推广', 'Status': 3, 'ImgStatus': 1, 'CreateTime': 1524634201, 'VoiceLength': 0, 'PlayLength': 0, 'FileName': '', 'FileSize': '', 'MediaId': '', 'Url': '', 'AppMsgType': 0, 'StatusNotifyCode': 0, 'StatusNotifyUserName': '', 'RecommendInfo': {'UserName': '', 'NickName': '', 'QQNum': 0, 'Province': '', 'City': '', 'Content': '', 'Signature': '', 'Alias': '', 'Scene': 0, 'VerifyFlag': 0, 'AttrStatus': 0, 'Sex': 0, 'Ticket': '', 'OpCode': 0}, 'ForwardFlag': 0, 'AppInfo': {'AppID': '', 'Type': 0}, 'HasProductId': 0, 'Ticket': '', 'ImgHeight': 0, 'ImgWidth': 0, 'SubMsgType': 0, 'NewMsgId': 8682242436998289206, 'OriContent': '', 'EncryFileName': '', 'Type': 'Text', 'Text': '推广'}\n",
      "{'MsgId': '4560429514409031758', 'FromUserName': '@66e2732edd307e9a36975d76b6bc93e7', 'ToUserName': '@efd3f2fa87987d3786857d8d14130363644e8909c70e1426150e3ebe5291dcf1', 'MsgType': 1, 'Content': '找回', 'Status': 3, 'ImgStatus': 1, 'CreateTime': 1524634284, 'VoiceLength': 0, 'PlayLength': 0, 'FileName': '', 'FileSize': '', 'MediaId': '', 'Url': '', 'AppMsgType': 0, 'StatusNotifyCode': 0, 'StatusNotifyUserName': '', 'RecommendInfo': {'UserName': '', 'NickName': '', 'QQNum': 0, 'Province': '', 'City': '', 'Content': '', 'Signature': '', 'Alias': '', 'Scene': 0, 'VerifyFlag': 0, 'AttrStatus': 0, 'Sex': 0, 'Ticket': '', 'OpCode': 0}, 'ForwardFlag': 0, 'AppInfo': {'AppID': '', 'Type': 0}, 'HasProductId': 0, 'Ticket': '', 'ImgHeight': 0, 'ImgWidth': 0, 'SubMsgType': 0, 'NewMsgId': 4560429514409031758, 'OriContent': '', 'EncryFileName': '', 'Type': 'Text', 'Text': '找回'}\n",
      "{'MsgId': '8557327397301368326', 'FromUserName': '@66e2732edd307e9a36975d76b6bc93e7', 'ToUserName': '@efd3f2fa87987d3786857d8d14130363644e8909c70e1426150e3ebe5291dcf1', 'MsgType': 1, 'Content': '帮助', 'Status': 3, 'ImgStatus': 1, 'CreateTime': 1524634294, 'VoiceLength': 0, 'PlayLength': 0, 'FileName': '', 'FileSize': '', 'MediaId': '', 'Url': '', 'AppMsgType': 0, 'StatusNotifyCode': 0, 'StatusNotifyUserName': '', 'RecommendInfo': {'UserName': '', 'NickName': '', 'QQNum': 0, 'Province': '', 'City': '', 'Content': '', 'Signature': '', 'Alias': '', 'Scene': 0, 'VerifyFlag': 0, 'AttrStatus': 0, 'Sex': 0, 'Ticket': '', 'OpCode': 0}, 'ForwardFlag': 0, 'AppInfo': {'AppID': '', 'Type': 0}, 'HasProductId': 0, 'Ticket': '', 'ImgHeight': 0, 'ImgWidth': 0, 'SubMsgType': 0, 'NewMsgId': 8557327397301368326, 'OriContent': '', 'EncryFileName': '', 'Type': 'Text', 'Text': '帮助'}\n",
      "{'MsgId': '2853755658194888344', 'FromUserName': '@771d92541579c656f2d5f4a31e976c1e', 'ToUserName': '@efd3f2fa87987d3786857d8d14130363644e8909c70e1426150e3ebe5291dcf1', 'MsgType': 1, 'Content': '提现', 'Status': 3, 'ImgStatus': 1, 'CreateTime': 1524634331, 'VoiceLength': 0, 'PlayLength': 0, 'FileName': '', 'FileSize': '', 'MediaId': '', 'Url': '', 'AppMsgType': 0, 'StatusNotifyCode': 0, 'StatusNotifyUserName': '', 'RecommendInfo': {'UserName': '', 'NickName': '', 'QQNum': 0, 'Province': '', 'City': '', 'Content': '', 'Signature': '', 'Alias': '', 'Scene': 0, 'VerifyFlag': 0, 'AttrStatus': 0, 'Sex': 0, 'Ticket': '', 'OpCode': 0}, 'ForwardFlag': 0, 'AppInfo': {'AppID': '', 'Type': 0}, 'HasProductId': 0, 'Ticket': '', 'ImgHeight': 0, 'ImgWidth': 0, 'SubMsgType': 0, 'NewMsgId': 2853755658194888344, 'OriContent': '', 'EncryFileName': '', 'Type': 'Text', 'Text': '提现'}\n",
      "{'MsgId': '2323038126640546884', 'FromUserName': '@66e2732edd307e9a36975d76b6bc93e7', 'ToUserName': '@efd3f2fa87987d3786857d8d14130363644e8909c70e1426150e3ebe5291dcf1', 'MsgType': 1, 'Content': '你真棒', 'Status': 3, 'ImgStatus': 1, 'CreateTime': 1524634940, 'VoiceLength': 0, 'PlayLength': 0, 'FileName': '', 'FileSize': '', 'MediaId': '', 'Url': '', 'AppMsgType': 0, 'StatusNotifyCode': 0, 'StatusNotifyUserName': '', 'RecommendInfo': {'UserName': '', 'NickName': '', 'QQNum': 0, 'Province': '', 'City': '', 'Content': '', 'Signature': '', 'Alias': '', 'Scene': 0, 'VerifyFlag': 0, 'AttrStatus': 0, 'Sex': 0, 'Ticket': '', 'OpCode': 0}, 'ForwardFlag': 0, 'AppInfo': {'AppID': '', 'Type': 0}, 'HasProductId': 0, 'Ticket': '', 'ImgHeight': 0, 'ImgWidth': 0, 'SubMsgType': 0, 'NewMsgId': 2323038126640546884, 'OriContent': '', 'EncryFileName': '', 'Type': 'Text', 'Text': '你真棒'}\n",
      "{'MsgId': '4759087640824664162', 'FromUserName': '@66e2732edd307e9a36975d76b6bc93e7', 'ToUserName': '@efd3f2fa87987d3786857d8d14130363644e8909c70e1426150e3ebe5291dcf1', 'MsgType': 1, 'Content': '余额', 'Status': 3, 'ImgStatus': 1, 'CreateTime': 1524635014, 'VoiceLength': 0, 'PlayLength': 0, 'FileName': '', 'FileSize': '', 'MediaId': '', 'Url': '', 'AppMsgType': 0, 'StatusNotifyCode': 0, 'StatusNotifyUserName': '', 'RecommendInfo': {'UserName': '', 'NickName': '', 'QQNum': 0, 'Province': '', 'City': '', 'Content': '', 'Signature': '', 'Alias': '', 'Scene': 0, 'VerifyFlag': 0, 'AttrStatus': 0, 'Sex': 0, 'Ticket': '', 'OpCode': 0}, 'ForwardFlag': 0, 'AppInfo': {'AppID': '', 'Type': 0}, 'HasProductId': 0, 'Ticket': '', 'ImgHeight': 0, 'ImgWidth': 0, 'SubMsgType': 0, 'NewMsgId': 4759087640824664162, 'OriContent': '', 'EncryFileName': '', 'Type': 'Text', 'Text': '余额'}\n",
      "{'MsgId': '6775003950572657676', 'FromUserName': '@66e2732edd307e9a36975d76b6bc93e7', 'ToUserName': '@efd3f2fa87987d3786857d8d14130363644e8909c70e1426150e3ebe5291dcf1', 'MsgType': 1, 'Content': '😂', 'Status': 3, 'ImgStatus': 1, 'CreateTime': 1524635023, 'VoiceLength': 0, 'PlayLength': 0, 'FileName': '', 'FileSize': '', 'MediaId': '', 'Url': '', 'AppMsgType': 0, 'StatusNotifyCode': 0, 'StatusNotifyUserName': '', 'RecommendInfo': {'UserName': '', 'NickName': '', 'QQNum': 0, 'Province': '', 'City': '', 'Content': '', 'Signature': '', 'Alias': '', 'Scene': 0, 'VerifyFlag': 0, 'AttrStatus': 0, 'Sex': 0, 'Ticket': '', 'OpCode': 0}, 'ForwardFlag': 0, 'AppInfo': {'AppID': '', 'Type': 0}, 'HasProductId': 0, 'Ticket': '', 'ImgHeight': 0, 'ImgWidth': 0, 'SubMsgType': 0, 'NewMsgId': 6775003950572657676, 'OriContent': '', 'EncryFileName': '', 'Type': 'Text', 'Text': '😂'}\n"
     ]
    }
   ],
   "source": [
    "# 用itchat做微信自动聊天机器人\n",
    "import itchat\n",
    "import re\n",
    "\n",
    "# 回复发给自己的消息\n",
    "@itchat.msg_register(itchat.content.TEXT) \n",
    "def text_reply(msg):\n",
    "    print(msg)\n",
    "    \n",
    "    templates = {r\"记录\": lambda x: \"暂无记录\",\n",
    "                    r\"提现\": lambda x: \"您已经赚了99元，再赚1元就可以提现了\",\n",
    "                    r\"余额\": lambda x: \"恭喜您！您总共赚了10,333元！\",\n",
    "                    r\"帮助\": lambda x: \"帮助\",\n",
    "                    r\"推广\": lambda x: \"复制我们的商品信息发布到朋友圈，好友购买成功后返佣\",\n",
    "                    r\"留言\": lambda x: \"任何消息，请直接留言\",\n",
    "                    r\"找回\": lambda x: \"\"}\n",
    "    \n",
    "    for key,value in templates.items():\n",
    "        if re.match(key, msg[\"Text\"]):\n",
    "            return value(\"\")\n",
    "        \n",
    "    return \"\"\"一一一一使用说明一一一一\n",
    "①粘贴商品链接给机器人\n",
    "②复制机器人回复的结果\n",
    "③打开淘宝会弹出淘口令\n",
    "④确认收货后即可领返利\n",
    "一一一一菜单指令一一一一\n",
    "请回复相应关键词\n",
    "[记录]—查看订单记录\n",
    "[提现]—提现账户余额\n",
    "[余额]—查看个人余额\n",
    "[帮助]—如何使用机器人\n",
    "[留言]—留言遇到的问题\n",
    "[找回]—找回丢失记录的订单\n",
    "[推广]—如何邀请好友赚提成\"\"\"\n",
    "\n",
    "itchat.auto_login()\n",
    "itchat.run()"
   ]
  },
  {
   "cell_type": "code",
   "execution_count": 15,
   "metadata": {},
   "outputs": [
    {
     "name": "stderr",
     "output_type": "stream",
     "text": [
      "Getting uuid of QR code.\n",
      "Downloading QR code.\n",
      "Please scan the QR code to log in.\n",
      "Please press confirm on your phone.\n",
      "Loading the contact, this may take a little while.\n",
      "Login successfully as 数学小王子\n"
     ]
    }
   ],
   "source": [
    "itchat.auto_login()"
   ]
  },
  {
   "cell_type": "code",
   "execution_count": 6,
   "metadata": {},
   "outputs": [
    {
     "data": {
      "text/plain": [
       "<ItchatReturnValue: {'BaseResponse': {'Ret': 0, 'ErrMsg': '请求成功', 'RawMsg': '请求成功'}, 'MsgID': '5677300279459622827', 'LocalID': '15246261241869'}>"
      ]
     },
     "execution_count": 6,
     "metadata": {},
     "output_type": "execute_result"
    }
   ],
   "source": [
    "itchat.send('Hello, filehelper', toUserName='filehelper')#给文件助手发消息"
   ]
  },
  {
   "cell_type": "code",
   "execution_count": 13,
   "metadata": {},
   "outputs": [
    {
     "data": {
      "text/plain": [
       "<ItchatReturnValue: {'BaseResponse': {'Ret': -1, 'ErrMsg': '', 'RawMsg': ''}, 'MsgID': '', 'LocalID': ''}>"
      ]
     },
     "execution_count": 13,
     "metadata": {},
     "output_type": "execute_result"
    }
   ],
   "source": [
    "itchat.send('Hello, filehelper', toUserName='evil_eve_live')#给文件助手发消息"
   ]
  },
  {
   "cell_type": "code",
   "execution_count": 16,
   "metadata": {},
   "outputs": [
    {
     "name": "stderr",
     "output_type": "stream",
     "text": [
      "Start auto replying.\n",
      "Bye~\n"
     ]
    }
   ],
   "source": [
    "#启动自动回复"
   ]
  },
  {
   "cell_type": "code",
   "execution_count": 24,
   "metadata": {
    "collapsed": true
   },
   "outputs": [],
   "source": [
    "    templates = {r\"记录\": lambda x: \"暂无记录\",\n",
    "                    r\"提现\": lambda x: \"您已经赚了99元，再赚1元就可以提现了\",\n",
    "                    r\"余额\": lambda x: \"恭喜您！您总共赚了10,333元！\",\n",
    "                    r\"帮助\": lambda x: \"帮助\",\n",
    "                    r\"推广\": lambda x: \"推广\"}"
   ]
  },
  {
   "cell_type": "code",
   "execution_count": 25,
   "metadata": {},
   "outputs": [
    {
     "data": {
      "text/plain": [
       "<function dict.items>"
      ]
     },
     "execution_count": 25,
     "metadata": {},
     "output_type": "execute_result"
    }
   ],
   "source": []
  },
  {
   "cell_type": "code",
   "execution_count": null,
   "metadata": {
    "collapsed": true
   },
   "outputs": [],
   "source": []
  }
 ],
 "metadata": {
  "kernelspec": {
   "display_name": "Python 3",
   "language": "python",
   "name": "python3"
  },
  "language_info": {
   "codemirror_mode": {
    "name": "ipython",
    "version": 3
   },
   "file_extension": ".py",
   "mimetype": "text/x-python",
   "name": "python",
   "nbconvert_exporter": "python",
   "pygments_lexer": "ipython3",
   "version": "3.6.1"
  }
 },
 "nbformat": 4,
 "nbformat_minor": 2
}
